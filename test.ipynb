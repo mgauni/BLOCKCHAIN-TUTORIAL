{
 "cells": [
  {
   "cell_type": "markdown",
   "metadata": {},
   "source": [
    "# PYTHON - Blockchain Tutorial\n",
    "> https://www.youtube.com/watch?v=gyMwXuJrbJQ  \n",
    "> *Introductory Tutorial to Blockchain Development*\n"
   ]
  },
  {
   "cell_type": "markdown",
   "metadata": {},
   "source": [
    "##### MODULE 1: *Welcome to Blockchain*  \n",
    "- <remove> take normal notes here.. embedd nested code to highlight, devleop systems otherwise..</remove>\n"
   ]
  }
 ],
 "metadata": {
  "language_info": {
   "name": "python"
  },
  "orig_nbformat": 4
 },
 "nbformat": 4,
 "nbformat_minor": 2
}
